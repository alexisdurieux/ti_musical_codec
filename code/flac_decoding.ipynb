{
 "cells": [
  {
   "cell_type": "code",
   "execution_count": 117,
   "metadata": {
    "collapsed": false
   },
   "outputs": [],
   "source": [
    "import time\n",
    "from enum import Enum\n",
    "\n",
    "METABLOCK_HEADER_SIZE = 4 # Taille en byte du header d'un metadata block\n",
    "\n",
    "# Différents types de metadata blocks\n",
    "BLOCK_TYPE = {\n",
    "    0 : \"STREAMINFO\",\n",
    "    1 : \"PADDING\",\n",
    "    2 : \"APPLICATION\",\n",
    "    3 : \"SEEKTABLE\",\n",
    "    4 : \"VORBIS_COMMENT\",\n",
    "    5 : \"CUESHEET\",\n",
    "    6 : \"PICTURE\",\n",
    "    127: \"INVALID\"\n",
    "}\n",
    "\n",
    "# Fonction pour lire un fichier en bytes\n",
    "def bytes_from_file(filename, chunksize=8192):\n",
    "    with open(filename, \"rb\") as f:\n",
    "        while True:\n",
    "            chunk = f.read(chunksize)\n",
    "            if chunk:\n",
    "                for b in chunk:\n",
    "                    yield b\n",
    "            else:\n",
    "                break\n",
    "\n",
    "# Formate un nombre binaire au format byte (8 bits)\n",
    "def intToByte(b):\n",
    "    return \"{0:08b}\".format(b)\n",
    "\n",
    "# Retourne la valeur ASCII d'un nombre binaire\n",
    "def byteToASCII(b):\n",
    "    n = int('0b' + b, 2)\n",
    "    return n.to_bytes((n.bit_length() + 7) // 8, 'big').decode()\n",
    "\n",
    "# Class permettant d'effectuer un benchmark\n",
    "class Timer(object):\n",
    "    def __init__(self, name=None):\n",
    "        self.name = name\n",
    "\n",
    "    def __enter__(self):\n",
    "        self.tstart = time.time()\n",
    "\n",
    "    def __exit__(self, type, value, traceback):\n",
    "        if self.name:\n",
    "            print('[%s]' % self.name),\n",
    "        print('Elapsed: %s' % (time.time() - self.tstart))\n",
    "\n",
    "# Lit le \"flac Header\". Est censé retourner fLaC\n",
    "def getFlacHeader(data):\n",
    "    s = \"\"\n",
    "    for i in range(4):\n",
    "        s += byteToASCII(data[i])\n",
    "    return s\n",
    "\n",
    "# Retourne un tuple (isLastMetadataBlock, metadataBlockType, metadataBlockLength)\n",
    "def getMetadataBlockHeader(data, cursor):\n",
    "    try:\n",
    "        block_type = BLOCK_TYPE[int('0b' + data[cursor][1:8], 2)]\n",
    "    except KeyError:\n",
    "        block_type = \"RESERVED\"\n",
    "    return (data[cursor][0] == \"1\", block_type, int('0b' + ''.join(data[cursor + 1: cursor + 4]), 2))"
   ]
  },
  {
   "cell_type": "code",
   "execution_count": 39,
   "metadata": {
    "collapsed": false
   },
   "outputs": [
    {
     "name": "stdout",
     "output_type": "stream",
     "text": [
      "[Reading Flac File]\n",
      "Elapsed: 99.46884393692017\n"
     ]
    }
   ],
   "source": [
    "# Stocke dans la variable data le fichier flac au format binaire\n",
    "with Timer(\"Reading Flac File\"):\n",
    "        filename = \"01 - The Post War Dream.flac\"\n",
    "        data = []\n",
    "        for b in bytes_from_file(filename):\n",
    "            data.append(intToByte(b))"
   ]
  },
  {
   "cell_type": "code",
   "execution_count": 127,
   "metadata": {
    "collapsed": false
   },
   "outputs": [
    {
     "name": "stdout",
     "output_type": "stream",
     "text": [
      "[(False, 'SEEKTABLE', 324), (False, 'VORBIS_COMMENT', 383), (False, 'PICTURE', 912704), (True, 'PADDING', 4096)]\n"
     ]
    }
   ],
   "source": [
    "metadataBlocks = []\n",
    "if (getFlacHeader(data) == \"fLaC\"): # Si c'est un fichier flac alors on récupère les blocks\n",
    "    cursor = 4\n",
    "    isLast, block_type, size_block = getMetadataBlockHeader(data, cursor)\n",
    "    while (not isLast):\n",
    "        cursor += size_block + METABLOCK_HEADER_SIZE\n",
    "        tmp = getMetadataBlockHeader(data, cursor)\n",
    "        isLast = tmp[0]\n",
    "        size_block = tmp[2]\n",
    "        metadataBlocks.append(tmp)\n",
    "    print(metadataBlocks)\n",
    "else:\n",
    "    print(\"Not a fLaC file\")"
   ]
  },
  {
   "cell_type": "code",
   "execution_count": 126,
   "metadata": {
    "collapsed": false
   },
   "outputs": [
    {
     "data": {
      "text/plain": [
       "[(False, 'SEEKTABLE', 324),\n",
       " (False, 'VORBIS_COMMENT', 383),\n",
       " (False, 'PICTURE', 912704),\n",
       " (True, 'PADDING', 4096)]"
      ]
     },
     "execution_count": 126,
     "metadata": {},
     "output_type": "execute_result"
    }
   ],
   "source": []
  },
  {
   "cell_type": "code",
   "execution_count": null,
   "metadata": {
    "collapsed": true
   },
   "outputs": [],
   "source": []
  }
 ],
 "metadata": {
  "kernelspec": {
   "display_name": "Python 3",
   "language": "python",
   "name": "python3"
  },
  "language_info": {
   "codemirror_mode": {
    "name": "ipython",
    "version": 3
   },
   "file_extension": ".py",
   "mimetype": "text/x-python",
   "name": "python",
   "nbconvert_exporter": "python",
   "pygments_lexer": "ipython3",
   "version": "3.4.3"
  }
 },
 "nbformat": 4,
 "nbformat_minor": 1
}
